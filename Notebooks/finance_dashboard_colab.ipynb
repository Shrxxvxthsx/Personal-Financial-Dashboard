{
  "cells": [
    {
      "cell_type": "markdown",
      "metadata": {
        "id": "view-in-github",
        "colab_type": "text"
      },
      "source": [
        "<a href=\"https://colab.research.google.com/github/Shrxxvxthsx/Personal-Financial-Dashboard/blob/main/Notebooks/finance_dashboard_colab.ipynb\" target=\"_parent\"><img src=\"https://colab.research.google.com/assets/colab-badge.svg\" alt=\"Open In Colab\"/></a>"
      ]
    },
    {
      "cell_type": "markdown",
      "metadata": {
        "id": "XtLhEv-5W1rw"
      },
      "source": [
        "# 📌 Personal Finance Dashboard — Google Colab Notebook\n",
        "\n",
        "This notebook downloads a sample dataset from Kaggle, cleans & categorizes transactions, builds monthly summaries, and exports CSVs ready for Power BI/Tableau.\n"
      ],
      "id": "XtLhEv-5W1rw"
    },
    {
      "cell_type": "code",
      "metadata": {
        "id": "OGVITaj0W1rz"
      },
      "execution_count": null,
      "outputs": [],
      "source": [
        "# --- STEP 1: Install and Configure Kaggle ---\n",
        "!pip install kaggle --quiet\n",
        "!mkdir -p ~/.kaggle\n",
        "from google.colab import files\n",
        "print('📂 Please upload your kaggle.json file (Kaggle > Account > Create API Token)')\n",
        "files.upload()  # Upload your Kaggle API key file\n",
        "!mv kaggle.json ~/.kaggle/\n",
        "!chmod 600 ~/.kaggle/kaggle.json\n"
      ],
      "id": "OGVITaj0W1rz"
    },
    {
      "cell_type": "code",
      "metadata": {
        "id": "q06flQuEW1r0"
      },
      "execution_count": null,
      "outputs": [],
      "source": [
        "# --- STEP 2: Download Dataset from Kaggle ---\n",
        "!kaggle datasets download -d ismetsemedov/personal-budget-transactions-dataset -p /content\n",
        "!unzip -o /content/personal-budget-transactions-dataset.zip -d /content\n"
      ],
      "id": "q06flQuEW1r0"
    },
    {
      "cell_type": "code",
      "metadata": {
        "id": "HdweS2M7W1r1"
      },
      "execution_count": null,
      "outputs": [],
      "source": [
        "# --- STEP 3: Load and Inspect Dataset ---\n",
        "import pandas as pd\n",
        "import os\n",
        "\n",
        "path = '/content/Personal Budget Transactions.csv'\n",
        "df = pd.read_csv(path)\n",
        "print('✅ Data loaded. Shape:', df.shape)\n",
        "df.head()\n"
      ],
      "id": "HdweS2M7W1r1"
    },
    {
      "cell_type": "code",
      "metadata": {
        "id": "JEMbSMMKW1r1"
      },
      "execution_count": null,
      "outputs": [],
      "source": [
        "# --- STEP 4: Clean and Categorize ---\n",
        "df.columns = df.columns.str.strip().str.lower()\n",
        "df['date'] = pd.to_datetime(df['date'], errors='coerce')\n",
        "df['description'] = df['description'].astype(str).str.strip()\n",
        "\n",
        "def categorize(desc: str) -> str:\n",
        "    d = desc.lower()\n",
        "    if 'salary' in d or 'income' in d:\n",
        "        return 'Income'\n",
        "    if 'amazon' in d or 'flipkart' in d:\n",
        "        return 'Shopping'\n",
        "    if 'uber' in d or 'ola' in d:\n",
        "        return 'Transport'\n",
        "    if 'zomato' in d or 'swiggy' in d:\n",
        "        return 'Food & Dining'\n",
        "    if 'electricity' in d or 'water' in d or 'gas' in d:\n",
        "        return 'Utilities'\n",
        "    if 'rent' in d:\n",
        "        return 'Housing'\n",
        "    return 'Other'\n",
        "\n",
        "df['category'] = df['description'].apply(categorize)\n",
        "df = df.sort_values('date')\n",
        "\n",
        "print('🧹 Cleaning complete. Columns:', list(df.columns))\n",
        "df.head()\n"
      ],
      "id": "JEMbSMMKW1r1"
    },
    {
      "cell_type": "code",
      "metadata": {
        "id": "lfuzGh1gW1r1"
      },
      "execution_count": null,
      "outputs": [],
      "source": [
        "# --- STEP 5: Save Cleaned Data ---\n",
        "clean_path = '/content/transactions_cleaned.csv'\n",
        "df.to_csv(clean_path, index=False)\n",
        "print('💾 Saved', clean_path)\n"
      ],
      "id": "lfuzGh1gW1r1"
    },
    {
      "cell_type": "code",
      "metadata": {
        "id": "1h3TFxySW1r1"
      },
      "execution_count": null,
      "outputs": [],
      "source": [
        "# --- STEP 6: Monthly Summary ---\n",
        "df['year_month'] = df['date'].dt.to_period('M')\n",
        "monthly_summary = df.groupby(['year_month', 'category'])['amount'].sum().reset_index()\n",
        "monthly_pivot = monthly_summary.pivot(index='year_month', columns='category', values='amount').fillna(0).reset_index()\n",
        "\n",
        "summary_path = '/content/monthly_summary.csv'\n",
        "monthly_pivot.to_csv(summary_path, index=False)\n",
        "print('💾 Saved', summary_path)\n",
        "monthly_pivot.head()\n"
      ],
      "id": "1h3TFxySW1r1"
    },
    {
      "cell_type": "code",
      "metadata": {
        "id": "k9-lw4vrW1r2"
      },
      "execution_count": null,
      "outputs": [],
      "source": [
        "# --- STEP 7: Quick Preview Charts (matplotlib only) ---\n",
        "import matplotlib.pyplot as plt\n",
        "\n",
        "# Convert period to string for plotting\n",
        "x = monthly_pivot['year_month'].astype(str)\n",
        "\n",
        "# Income vs Total Expenses\n",
        "income = monthly_pivot['Income'] if 'Income' in monthly_pivot.columns else None\n",
        "expense_cols = [c for c in monthly_pivot.columns if c not in ['year_month', 'Income']]\n",
        "total_expenses = monthly_pivot[expense_cols].sum(axis=1) if expense_cols else None\n",
        "\n",
        "plt.figure(figsize=(10,5))\n",
        "if income is not None:\n",
        "    plt.plot(x, income, marker='o', label='Income')\n",
        "if total_expenses is not None:\n",
        "    plt.plot(x, total_expenses, marker='o', label='Total Expenses')\n",
        "plt.title('Monthly Income vs Expenses')\n",
        "plt.xlabel('Month')\n",
        "plt.ylabel('Amount')\n",
        "plt.xticks(rotation=45)\n",
        "plt.legend()\n",
        "plt.grid(True)\n",
        "plt.show()\n",
        "\n",
        "# Expense Breakdown Pie (on full dataset)\n",
        "expense_mask = df['amount'] < 0\n",
        "if expense_mask.any():\n",
        "    expense_series = df.loc[expense_mask].groupby('category')['amount'].sum().abs()\n",
        "    plt.figure(figsize=(6,6))\n",
        "    plt.pie(expense_series.values, labels=expense_series.index, autopct='%1.1f%%', startangle=90)\n",
        "    plt.title('Expense Breakdown by Category')\n",
        "    plt.tight_layout()\n",
        "    plt.show()\n"
      ],
      "id": "k9-lw4vrW1r2"
    },
    {
      "cell_type": "code",
      "metadata": {
        "id": "d7jPL-dKW1r2"
      },
      "execution_count": null,
      "outputs": [],
      "source": [
        "# --- STEP 8: Copy outputs to /content/data for easy download ---\n",
        "import shutil, os\n",
        "os.makedirs('/content/data', exist_ok=True)\n",
        "shutil.copy('/content/transactions_cleaned.csv', '/content/data/transactions_cleaned.csv')\n",
        "shutil.copy('/content/monthly_summary.csv', '/content/data/monthly_summary.csv')\n",
        "print('📦 Outputs available in /content/data/')\n"
      ],
      "id": "d7jPL-dKW1r2"
    }
  ],
  "metadata": {
    "colab": {
      "provenance": [],
      "include_colab_link": true
    },
    "kernelspec": {
      "display_name": "Python 3",
      "language": "python",
      "name": "python3"
    }
  },
  "nbformat": 4,
  "nbformat_minor": 5
}